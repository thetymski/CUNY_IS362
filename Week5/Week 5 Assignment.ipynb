{
 "cells": [
  {
   "cell_type": "markdown",
   "id": "7aef533b",
   "metadata": {},
   "source": [
    "# Week 5 Assignment\n",
    "\n",
    "### Using pandas to import a .CSV and sorting, transforming, and filtering data to come to answers"
   ]
  },
  {
   "cell_type": "markdown",
   "id": "0ff295e1",
   "metadata": {},
   "source": [
    "### What is the northernmost airport in the United States?\n",
    "\n",
    "The answer to this is Dillant Hopkins Airport, you can follow my methodology in the commented code below."
   ]
  },
  {
   "cell_type": "code",
   "execution_count": null,
   "id": "e3aa7967",
   "metadata": {
    "scrolled": true
   },
   "outputs": [],
   "source": [
    "# Below I imported the necessary modules\n",
    "\n",
    "import pandas as pd\n",
    "from pandas import read_csv\n",
    "\n",
    "filename = r\"C:\\Users\\thety\\Google Drive\\CUNY\\IS362\\\\Week 5\\airports.csv\"\n",
    "\n",
    "# Below I created the dataframe airports, and sorted the values by descending latitude\n",
    "\n",
    "airports = pd.read_csv(filename)\n",
    "\n",
    "airports.sort_values(by='lat', ascending=False)"
   ]
  },
  {
   "cell_type": "markdown",
   "id": "6279d422",
   "metadata": {},
   "source": [
    "### What is the easternmost airport in the United States?\n",
    "\n",
    "The answer to this is Adak Airport, you can follow my methodology in the commented code below."
   ]
  },
  {
   "cell_type": "code",
   "execution_count": null,
   "id": "fd94babc",
   "metadata": {},
   "outputs": [],
   "source": [
    "# Below I imported the necessary modules\n",
    "\n",
    "import pandas as pd\n",
    "from pandas import read_csv\n",
    "\n",
    "filename = r\"C:\\Users\\thety\\Google Drive\\CUNY\\IS362\\\\Week 5\\airports.csv\"\n",
    "\n",
    "# Below I created the dataframe airports, and sorted the values by ascending longitude\n",
    "\n",
    "airports = pd.read_csv(filename)\n",
    "\n",
    "airports.sort_values(by=['lon'])"
   ]
  },
  {
   "cell_type": "markdown",
   "id": "09cd0b44",
   "metadata": {},
   "source": [
    "### On February 12th, 2013, which New York area airport had the windiest weather?\n",
    "\n",
    "The answer to this is LGA, you can follow my methodology in the commented code below."
   ]
  },
  {
   "cell_type": "code",
   "execution_count": null,
   "id": "cc44f845",
   "metadata": {},
   "outputs": [],
   "source": [
    "# Below I imported the necessary modules\n",
    "\n",
    "import pandas as pd\n",
    "from pandas import read_csv\n",
    "\n",
    "filename2 = r\"C:\\Users\\thety\\Google Drive\\CUNY\\IS362\\\\Week 5\\weather.csv\"\n",
    "\n",
    "# Below I created the dataframe weather, and modified it to only include data from February 12, 2013\n",
    "\n",
    "weather = pd.read_csv(filename2)\n",
    "\n",
    "weather = weather[weather.month == 2]\n",
    "weather = weather[weather.day == 12]\n",
    "weather = weather[weather.year == 2013]\n",
    "\n",
    "# Below I sorted the resulting dataframe by wind_speed, by excludiong the obvious error for the top result, we can conclude LGA had the windiest weather on this date\n",
    "\n",
    "weather.sort_values(by='wind_speed', ascending=False)"
   ]
  },
  {
   "cell_type": "code",
   "execution_count": null,
   "id": "e1677209",
   "metadata": {},
   "outputs": [],
   "source": []
  }
 ],
 "metadata": {
  "kernelspec": {
   "display_name": "Python 3",
   "language": "python",
   "name": "python3"
  },
  "language_info": {
   "codemirror_mode": {
    "name": "ipython",
    "version": 3
   },
   "file_extension": ".py",
   "mimetype": "text/x-python",
   "name": "python",
   "nbconvert_exporter": "python",
   "pygments_lexer": "ipython3",
   "version": "3.8.8"
  }
 },
 "nbformat": 4,
 "nbformat_minor": 5
}
