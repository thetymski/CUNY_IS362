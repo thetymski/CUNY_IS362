{
 "cells": [
  {
   "cell_type": "markdown",
   "id": "a3bf0745",
   "metadata": {},
   "source": [
    "# Using the zip() function\n",
    "\n",
    "### Brief description of the zip() function:\n",
    "\n",
    "The below section was lifted from [W3 Schools](https://www.w3schools.com/python/ref_func_zip.asp)\n",
    "\n",
    "The zip() function returns a zip object, which is an iterator of tuples where the first item in each passed iterator is paired together, and then the second item in each passed iterator are paired together etc.\n",
    "\n",
    "If the passed iterators have different lengths, the iterator with the least items decides the length of the new iterator.\n",
    "\n",
    "### And here, is my resulting code:\n"
   ]
  },
  {
   "cell_type": "code",
   "execution_count": 8,
   "id": "5d5b45f9",
   "metadata": {},
   "outputs": [
    {
     "name": "stdout",
     "output_type": "stream",
     "text": [
      "[('3.5664', 'BOEING'), ('6.2595', 'AIRBUS'), ('4.2648', 'AIRBUS INDUSTRIE'), ('16.6676', 'CANADAIR'), ('5.6605', 'MCDONNELL DOUGLAS AIRCRAFT CO'), ('13.9197', 'EMBRAER'), ('6.6584', 'MCDONNELL DOUGLAS CORPORATION'), ('8.1193', 'BOMBARDIER INC'), ('-0.4738', 'MCDONNELL DOUGLAS'), ('7.173', 'GULFSTREAM AEROSPACE'), ('8.6228', 'CESSNA'), ('6.5625', 'HURLEY JAMES LARRY'), ('8.1661', 'CIRRUS DESIGN CORP'), ('-2.4416', 'PIPER'), ('12.9464', 'FRIEDEMANN JON'), ('8.1851', 'ROBINSON HELICOPTER CO'), ('2.56', 'PAIR MIKE E'), ('11.116', 'BARKER JACK L'), ('9.0755', 'LAMBERT RICHARD'), ('0.875', 'MARZ BARRY'), ('8.1398', 'CANADAIR LTD'), ('4.8913', 'BEECH'), ('-13.3684', 'AMERICAN AIRCRAFT INC'), ('-5.0556', 'LEBLANC GLENN T'), ('-2.6038', 'STEWART MACO'), ('-4.2951', 'DEHAVILLAND'), ('12.2941', 'AVIAT AIRCRAFT INC'), ('30.6452', 'AGUSTA SPA'), ('-5.9608', 'KILDALL GARY'), ('8.0476', 'BELL'), ('0.0526', 'LEARJET INC'), ('3.5', 'DOUGLAS'), ('-1.3462', 'SIKORSKY'), ('-10.25', 'AVIONS MARCEL DASSAULT'), ('-3.3333', 'JOHN G HESS')]\n"
     ]
    }
   ],
   "source": [
    "# Below I import my .CSV file which I created for the Week 1 assignment\n",
    "\n",
    "import csv\n",
    "\n",
    "filename = open(r\"C:\\Users\\thety\\Google Drive\\CUNY\\IS362\\flights\\Week 1 Files\\tableau_file.csv\", 'r')\n",
    "\n",
    "file = csv.DictReader(filename)\n",
    "\n",
    "# Below I create two lists which I intend to zip together\n",
    "\n",
    "avg_delays = []\n",
    "manufacturers = []\n",
    "\n",
    "for col in file:\n",
    "    avg_delays.append(col['avg_delay'])\n",
    "    manufacturers.append(col['manufacturer'])\n",
    "\n",
    "# I used the below line to test that the code above worked    \n",
    "# print('avg_delay:', avg_delays)\n",
    "\n",
    "# Below I create and store my zipped file, which creates a list of tuples from the two columns I imported\n",
    "\n",
    "zipped_file = list(zip(avg_delays, manufacturers))\n",
    "\n",
    "print(zipped_file)"
   ]
  },
  {
   "cell_type": "code",
   "execution_count": null,
   "id": "163a2c64",
   "metadata": {},
   "outputs": [],
   "source": []
  }
 ],
 "metadata": {
  "kernelspec": {
   "display_name": "Python 3",
   "language": "python",
   "name": "python3"
  },
  "language_info": {
   "codemirror_mode": {
    "name": "ipython",
    "version": 3
   },
   "file_extension": ".py",
   "mimetype": "text/x-python",
   "name": "python",
   "nbconvert_exporter": "python",
   "pygments_lexer": "ipython3",
   "version": "3.8.8"
  }
 },
 "nbformat": 4,
 "nbformat_minor": 5
}
