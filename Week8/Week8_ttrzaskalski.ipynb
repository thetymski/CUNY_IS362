{
 "cells": [
  {
   "cell_type": "markdown",
   "id": "4d16b3b4",
   "metadata": {},
   "source": [
    "# Week 8 Assignment\n",
    "\n",
    "### Using pandas to import a .CSV and visualizing data"
   ]
  },
  {
   "cell_type": "markdown",
   "id": "e2722da2",
   "metadata": {},
   "source": [
    "##### 1. Load the data in the (yellow highlighted) Data Folder in the file auto-mpg.data into a pandas DataFrame.\n",
    "\n",
    "##### 2. Review the data and the provided data set description.\n",
    "\n",
    "##### 3. Use the attribute information provided in auto-mpg.names to name your pandas DataFrame columns."
   ]
  },
  {
   "cell_type": "code",
   "execution_count": 56,
   "id": "70d56ad7",
   "metadata": {},
   "outputs": [],
   "source": [
    "# Below I imported the necessary modules and files\n",
    "\n",
    "import pandas as pd\n",
    "import seaborn as sns\n",
    "import numpy as np\n",
    "%matplotlib inline\n",
    "from matplotlib import pyplot as plt\n",
    "from pandas import read_csv\n",
    "\n",
    "filename = r\"C:\\Users\\thety\\Google Drive\\CUNY\\IS362\\\\Week 8\\car-data.csv\"\n",
    "\n",
    "# Below I created the dataframe film_ratings\n",
    "\n",
    "car_data = pd.read_csv(filename, index_col=\"car name\")\n",
    "\n",
    "# Below I dropped blank columns, not sure where they came from\n",
    "\n",
    "car_data = car_data.drop(['Unnamed: 9', 'Unnamed: 10', 'Unnamed: 11', 'Unnamed: 12'], axis=1)"
   ]
  },
  {
   "cell_type": "markdown",
   "id": "61c3962d",
   "metadata": {},
   "source": [
    "##### 4. Some of the horsepower data is marked as missing with a ‘?’. You need to replace this ‘?’ with a pandas-appropriate missing value, then convert the column to numeric.\n",
    "\n",
    "##### The origin column values are 1, 2, and 3. Convert these values respectively to ‘USA’, ‘Asia’, and ‘Europe’"
   ]
  },
  {
   "cell_type": "code",
   "execution_count": 61,
   "id": "874eda5e",
   "metadata": {},
   "outputs": [
    {
     "data": {
      "text/html": [
       "<div>\n",
       "<style scoped>\n",
       "    .dataframe tbody tr th:only-of-type {\n",
       "        vertical-align: middle;\n",
       "    }\n",
       "\n",
       "    .dataframe tbody tr th {\n",
       "        vertical-align: top;\n",
       "    }\n",
       "\n",
       "    .dataframe thead th {\n",
       "        text-align: right;\n",
       "    }\n",
       "</style>\n",
       "<table border=\"1\" class=\"dataframe\">\n",
       "  <thead>\n",
       "    <tr style=\"text-align: right;\">\n",
       "      <th></th>\n",
       "      <th>mpg</th>\n",
       "      <th>cylinders</th>\n",
       "      <th>displacement</th>\n",
       "      <th>horsepower</th>\n",
       "      <th>weight</th>\n",
       "      <th>acceleration</th>\n",
       "      <th>model year</th>\n",
       "      <th>origin</th>\n",
       "    </tr>\n",
       "    <tr>\n",
       "      <th>car name</th>\n",
       "      <th></th>\n",
       "      <th></th>\n",
       "      <th></th>\n",
       "      <th></th>\n",
       "      <th></th>\n",
       "      <th></th>\n",
       "      <th></th>\n",
       "      <th></th>\n",
       "    </tr>\n",
       "  </thead>\n",
       "  <tbody>\n",
       "    <tr>\n",
       "      <th>chevrolet chevelle malibu</th>\n",
       "      <td>18.0</td>\n",
       "      <td>8</td>\n",
       "      <td>307.0</td>\n",
       "      <td>130</td>\n",
       "      <td>3504</td>\n",
       "      <td>12.0</td>\n",
       "      <td>70</td>\n",
       "      <td>USA</td>\n",
       "    </tr>\n",
       "    <tr>\n",
       "      <th>buick skylark 320</th>\n",
       "      <td>15.0</td>\n",
       "      <td>8</td>\n",
       "      <td>350.0</td>\n",
       "      <td>165</td>\n",
       "      <td>3693</td>\n",
       "      <td>11.5</td>\n",
       "      <td>70</td>\n",
       "      <td>USA</td>\n",
       "    </tr>\n",
       "    <tr>\n",
       "      <th>plymouth satellite</th>\n",
       "      <td>18.0</td>\n",
       "      <td>8</td>\n",
       "      <td>318.0</td>\n",
       "      <td>150</td>\n",
       "      <td>3436</td>\n",
       "      <td>11.0</td>\n",
       "      <td>70</td>\n",
       "      <td>USA</td>\n",
       "    </tr>\n",
       "    <tr>\n",
       "      <th>amc rebel sst</th>\n",
       "      <td>16.0</td>\n",
       "      <td>8</td>\n",
       "      <td>304.0</td>\n",
       "      <td>150</td>\n",
       "      <td>3433</td>\n",
       "      <td>12.0</td>\n",
       "      <td>70</td>\n",
       "      <td>USA</td>\n",
       "    </tr>\n",
       "    <tr>\n",
       "      <th>ford torino</th>\n",
       "      <td>17.0</td>\n",
       "      <td>8</td>\n",
       "      <td>302.0</td>\n",
       "      <td>140</td>\n",
       "      <td>3449</td>\n",
       "      <td>10.5</td>\n",
       "      <td>70</td>\n",
       "      <td>USA</td>\n",
       "    </tr>\n",
       "    <tr>\n",
       "      <th>...</th>\n",
       "      <td>...</td>\n",
       "      <td>...</td>\n",
       "      <td>...</td>\n",
       "      <td>...</td>\n",
       "      <td>...</td>\n",
       "      <td>...</td>\n",
       "      <td>...</td>\n",
       "      <td>...</td>\n",
       "    </tr>\n",
       "    <tr>\n",
       "      <th>ford mustang gl</th>\n",
       "      <td>27.0</td>\n",
       "      <td>4</td>\n",
       "      <td>140.0</td>\n",
       "      <td>86</td>\n",
       "      <td>2790</td>\n",
       "      <td>15.6</td>\n",
       "      <td>82</td>\n",
       "      <td>USA</td>\n",
       "    </tr>\n",
       "    <tr>\n",
       "      <th>vw pickup</th>\n",
       "      <td>44.0</td>\n",
       "      <td>4</td>\n",
       "      <td>97.0</td>\n",
       "      <td>52</td>\n",
       "      <td>2130</td>\n",
       "      <td>24.6</td>\n",
       "      <td>82</td>\n",
       "      <td>Asia</td>\n",
       "    </tr>\n",
       "    <tr>\n",
       "      <th>dodge rampage</th>\n",
       "      <td>32.0</td>\n",
       "      <td>4</td>\n",
       "      <td>135.0</td>\n",
       "      <td>84</td>\n",
       "      <td>2295</td>\n",
       "      <td>11.6</td>\n",
       "      <td>82</td>\n",
       "      <td>USA</td>\n",
       "    </tr>\n",
       "    <tr>\n",
       "      <th>ford ranger</th>\n",
       "      <td>28.0</td>\n",
       "      <td>4</td>\n",
       "      <td>120.0</td>\n",
       "      <td>79</td>\n",
       "      <td>2625</td>\n",
       "      <td>18.6</td>\n",
       "      <td>82</td>\n",
       "      <td>USA</td>\n",
       "    </tr>\n",
       "    <tr>\n",
       "      <th>chevy s-10</th>\n",
       "      <td>31.0</td>\n",
       "      <td>4</td>\n",
       "      <td>119.0</td>\n",
       "      <td>82</td>\n",
       "      <td>2720</td>\n",
       "      <td>19.4</td>\n",
       "      <td>82</td>\n",
       "      <td>USA</td>\n",
       "    </tr>\n",
       "  </tbody>\n",
       "</table>\n",
       "<p>398 rows × 8 columns</p>\n",
       "</div>"
      ],
      "text/plain": [
       "                            mpg  cylinders  displacement horsepower  weight  \\\n",
       "car name                                                                      \n",
       "chevrolet chevelle malibu  18.0          8         307.0        130    3504   \n",
       "buick skylark 320          15.0          8         350.0        165    3693   \n",
       "plymouth satellite         18.0          8         318.0        150    3436   \n",
       "amc rebel sst              16.0          8         304.0        150    3433   \n",
       "ford torino                17.0          8         302.0        140    3449   \n",
       "...                         ...        ...           ...        ...     ...   \n",
       "ford mustang gl            27.0          4         140.0         86    2790   \n",
       "vw pickup                  44.0          4          97.0         52    2130   \n",
       "dodge rampage              32.0          4         135.0         84    2295   \n",
       "ford ranger                28.0          4         120.0         79    2625   \n",
       "chevy s-10                 31.0          4         119.0         82    2720   \n",
       "\n",
       "                           acceleration  model year origin  \n",
       "car name                                                    \n",
       "chevrolet chevelle malibu          12.0          70    USA  \n",
       "buick skylark 320                  11.5          70    USA  \n",
       "plymouth satellite                 11.0          70    USA  \n",
       "amc rebel sst                      12.0          70    USA  \n",
       "ford torino                        10.5          70    USA  \n",
       "...                                 ...         ...    ...  \n",
       "ford mustang gl                    15.6          82    USA  \n",
       "vw pickup                          24.6          82   Asia  \n",
       "dodge rampage                      11.6          82    USA  \n",
       "ford ranger                        18.6          82    USA  \n",
       "chevy s-10                         19.4          82    USA  \n",
       "\n",
       "[398 rows x 8 columns]"
      ]
     },
     "execution_count": 61,
     "metadata": {},
     "output_type": "execute_result"
    }
   ],
   "source": [
    "# Below I replace all '?' values under 'horsepower' with NaN\n",
    "\n",
    "car_data['horsepower'].replace(r'?', np.nan, inplace = True)\n",
    "\n",
    "# Below I replace all 'origin' column values under with 'USA’, ‘Asia’, and ‘Europe’\n",
    "\n",
    "car_data['origin'] = car_data['origin'].astype(str) \n",
    "\n",
    "car_data['origin'] = car_data['origin'].replace(str(1),'USA')\n",
    "car_data['origin'] = car_data['origin'].replace(str(2),'Asia')\n",
    "car_data['origin'] = car_data['origin'].replace(str(3),'Europe')\n",
    "\n",
    "car_data"
   ]
  },
  {
   "cell_type": "markdown",
   "id": "a9e85367",
   "metadata": {},
   "source": [
    "##### 6. Create a bar chart that shows the distribution for cylinders."
   ]
  },
  {
   "cell_type": "code",
   "execution_count": 59,
   "id": "93ffe76c",
   "metadata": {},
   "outputs": [
    {
     "data": {
      "text/plain": [
       "Text(0, 0.5, '# of cars')"
      ]
     },
     "execution_count": 59,
     "metadata": {},
     "output_type": "execute_result"
    },
    {
     "data": {
      "image/png": "[encoded data removed]",
      "text/plain": [
       "<Figure size 432x288 with 1 Axes>"
      ]
     },
     "metadata": {
      "needs_background": "light"
     },
     "output_type": "display_data"
    }
   ],
   "source": [
    "# Below I create a bar graph showing how many cars have engines with X amount of cylinders\n",
    "\n",
    "bar_graph = car_data['cylinders'].value_counts()\n",
    "\n",
    "bar_graph.plot(kind=\"bar\", title =\"# of cars containing X cylinder count\")\n",
    "\n",
    "plt.xlabel(\"Cylinder count\")\n",
    "plt.ylabel(\"# of cars\")"
   ]
  },
  {
   "cell_type": "markdown",
   "id": "69480f28",
   "metadata": {},
   "source": [
    "##### 7. Create a scatterplot that shows the relationship between horsepower and weight."
   ]
  },
  {
   "cell_type": "code",
   "execution_count": 71,
   "id": "bdb04b82",
   "metadata": {},
   "outputs": [
    {
     "data": {
      "text/plain": [
       "Text(0, 0.5, 'Horsepower')"
      ]
     },
     "execution_count": 71,
     "metadata": {},
     "output_type": "execute_result"
    },
    {
     "data": {
      "image/png": "[encoded data removed]",
      "text/plain": [
       "<Figure size 432x288 with 1 Axes>"
      ]
     },
     "metadata": {
      "needs_background": "light"
     },
     "output_type": "display_data"
    }
   ],
   "source": [
    "# Below I adjust the data so it is as a datafram, does not include NaN values, and ensure that weight and horsepower are integers\n",
    "\n",
    "car_data = pd.DataFrame(car_data)\n",
    "car_data = car_data.dropna()\n",
    "car_data = car_data.astype({\"weight\": int, \"horsepower\": int})\n",
    "\n",
    "#Below I identify the 'x' and 'y' axes for the graph, and create a scatterplot\n",
    "\n",
    "a = car_data.weight\n",
    "b = car_data.horsepower\n",
    "\n",
    "plt.scatter(a,b)\n",
    "\n",
    "plt.xlabel(\"Weight\")\n",
    "plt.ylabel(\"Horsepower\")"
   ]
  },
  {
   "cell_type": "markdown",
   "id": "79bd4166",
   "metadata": {},
   "source": [
    "##### 8. Ask, then answer (using matplotlib and seaborn graphics capabilities) an interesting question about the distribution of one of the variables, or the relationship between two (or more!) of the variables in the “Auto MPG” dataset."
   ]
  },
  {
   "cell_type": "code",
   "execution_count": 82,
   "id": "a5809040",
   "metadata": {},
   "outputs": [
    {
     "data": {
      "text/plain": [
       "Text(0, 0.5, 'Horsepower')"
      ]
     },
     "execution_count": 82,
     "metadata": {},
     "output_type": "execute_result"
    },
    {
     "data": {
      "image/png": "[encoded data removed]",
      "text/plain": [
       "<Figure size 432x288 with 1 Axes>"
      ]
     },
     "metadata": {
      "needs_background": "light"
     },
     "output_type": "display_data"
    }
   ],
   "source": [
    "# Below I create a dataframe that consists of average horsepower values per model year vehicle\n",
    "\n",
    "model_horsepower = car_data.groupby('model year', as_index=False)['horsepower'].mean()\n",
    "\n",
    "# Below I identify x and y values for the bar graph, and plot it below\n",
    "\n",
    "c = model_horsepower['model year']\n",
    "d = model_horsepower.horsepower\n",
    "\n",
    "plt.bar(c,d)\n",
    "\n",
    "plt.xlabel(\"Model Year\")\n",
    "plt.ylabel(\"Horsepower\")"
   ]
  },
  {
   "cell_type": "code",
   "execution_count": null,
   "id": "0ee243af",
   "metadata": {},
   "outputs": [],
   "source": []
  }
 ],
 "metadata": {
  "kernelspec": {
   "display_name": "Python 3",
   "language": "python",
   "name": "python3"
  },
  "language_info": {
   "codemirror_mode": {
    "name": "ipython",
    "version": 3
   },
   "file_extension": ".py",
   "mimetype": "text/x-python",
   "name": "python",
   "nbconvert_exporter": "python",
   "pygments_lexer": "ipython3",
   "version": "3.8.8"
  }
 },
 "nbformat": 4,
 "nbformat_minor": 5
}
