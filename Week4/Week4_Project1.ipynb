{
 "cells": [
  {
   "cell_type": "code",
   "execution_count": null,
   "id": "95c31867",
   "metadata": {},
   "outputs": [],
   "source": [
    "# Week 4 Project 1\n",
    "\n",
    "### Using pandas to import a .CSV and using some arithmetic on a dataframe to draw comparisons\n",
    "\n",
    "My approach to completing this problem was by importing my .CSV containing values as a dataframe, creating another dataframe which also includes the sum of on time and delayed flights per airline, calculating the resulting numbers as a percentage, and printing the resulting dataframe to make an easy comparison between the two airlines."
   ]
  },
  {
   "cell_type": "code",
   "execution_count": 35,
   "id": "c074ed82",
   "metadata": {},
   "outputs": [
    {
     "data": {
      "text/plain": [
       "Alaska_time            3274\n",
       "Alaska_delay            501\n",
       "AMWest_time            6438\n",
       "AMWest_delay            787\n",
       "alaska_percent    15.302382\n",
       "amwest_percent    12.224293\n",
       "dtype: object"
      ]
     },
     "execution_count": 35,
     "metadata": {},
     "output_type": "execute_result"
    }
   ],
   "source": [
    "# Below I imported the necessary modules\n",
    "\n",
    "import pandas as pd\n",
    "from pandas import read_csv\n",
    "\n",
    "filename = r\"C:\\Users\\thety\\Google Drive\\CUNY\\IS362\\\\Week 4\\alaska_amwest.csv\"\n",
    "\n",
    "# Below I created the dataframe alaska_amwest, and alaska_amwest2, which sums all the on time + delayed flights for each airline, so that we can easily calculate a percentage later\n",
    "\n",
    "alaska_amwest = pd.read_csv(filename)\n",
    "\n",
    "alaska_amwest2 = alaska_amwest.sum()\n",
    "\n",
    "# Below, I removed the City row as it is no longer needed for our math\n",
    "\n",
    "alaska_amwest2 = alaska_amwest2.drop('City')\n",
    "\n",
    "# Below I calculated the % of flights that were delayed per airline\n",
    "\n",
    "alaska_amwest2['alaska_percent'] = (alaska_amwest2[1] / alaska_amwest2[0]) * 100\n",
    "\n",
    "alaska_amwest2['amwest_percent'] = (alaska_amwest2[3] / alaska_amwest2[2]) * 100\n",
    "\n",
    "# Below I printed the resulting dataframe which includes the % of flights delayed \n",
    "\n",
    "alaska_amwest2"
   ]
  }
 ],
 "metadata": {
  "kernelspec": {
   "display_name": "Python 3",
   "language": "python",
   "name": "python3"
  },
  "language_info": {
   "codemirror_mode": {
    "name": "ipython",
    "version": 3
   },
   "file_extension": ".py",
   "mimetype": "text/x-python",
   "name": "python",
   "nbconvert_exporter": "python",
   "pygments_lexer": "ipython3",
   "version": "3.8.8"
  }
 },
 "nbformat": 4,
 "nbformat_minor": 5
}
