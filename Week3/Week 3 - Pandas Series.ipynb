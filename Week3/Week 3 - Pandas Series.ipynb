{
 "cells": [
  {
   "cell_type": "markdown",
   "id": "6eaf8b42",
   "metadata": {},
   "source": [
    "# Week 3 Assignment\n",
    "\n",
    "### Using pandas to import a .CSV and producing the amount of miles biked per day\n",
    "\n",
    "My approach to completing this problem was by importing my .CSV containing cumulative values as a dataframe, creating another dataframe with the index offset by one, converting them to series, and subtracting them from each other to acquire a new series that contains the amount of miles biked per day. This approach worked for me, yours may be different."
   ]
  },
  {
   "cell_type": "code",
   "execution_count": 21,
   "id": "2a34e564",
   "metadata": {},
   "outputs": [
    {
     "data": {
      "text/plain": [
       "0      NaN\n",
       "1     65.0\n",
       "2     65.0\n",
       "3     57.0\n",
       "4     58.0\n",
       "5     74.0\n",
       "6     68.0\n",
       "7     79.0\n",
       "8     89.0\n",
       "9     99.0\n",
       "10    65.0\n",
       "11    76.0\n",
       "12    82.0\n",
       "13    69.0\n",
       "14    86.0\n",
       "15    45.0\n",
       "16    75.0\n",
       "17    95.0\n",
       "18    55.0\n",
       "19    44.0\n",
       "20    34.0\n",
       "21     NaN\n",
       "Name: 0, dtype: float64"
      ]
     },
     "execution_count": 21,
     "metadata": {},
     "output_type": "execute_result"
    }
   ],
   "source": [
    "# Below I imported the necessary modules\n",
    "\n",
    "import pandas as pd\n",
    "from pandas import read_csv\n",
    "\n",
    "filename = r\"C:\\Users\\thety\\Google Drive\\CUNY\\IS362\\\\Week 3\\cumulative_miles.csv\"\n",
    "\n",
    "# Below I created the dataframe miles, and miles_offset\n",
    "\n",
    "miles = pd.read_csv(filename, header=None)\n",
    "\n",
    "miles_offset = miles.copy()\n",
    "\n",
    "# Below I increased the index of miles_offset by 1, to prepare for subtracting the two series\n",
    "\n",
    "miles_offset.index = range(1,len(miles_offset)+1)\n",
    "\n",
    "# Below I converted the dataframes to series\n",
    "\n",
    "miles_series = miles.squeeze()\n",
    "miles_series_offset = miles_offset.squeeze()\n",
    "\n",
    "#Below I subract the two series, and save the result in a new series, which contains miles biked per day\n",
    "\n",
    "new_series = miles_series - miles_series_offset\n",
    "\n",
    "new_series"
   ]
  },
  {
   "cell_type": "code",
   "execution_count": null,
   "id": "4b1c9d28",
   "metadata": {},
   "outputs": [],
   "source": []
  },
  {
   "cell_type": "code",
   "execution_count": null,
   "id": "eff362d7",
   "metadata": {},
   "outputs": [],
   "source": []
  }
 ],
 "metadata": {
  "kernelspec": {
   "display_name": "Python 3",
   "language": "python",
   "name": "python3"
  },
  "language_info": {
   "codemirror_mode": {
    "name": "ipython",
    "version": 3
   },
   "file_extension": ".py",
   "mimetype": "text/x-python",
   "name": "python",
   "nbconvert_exporter": "python",
   "pygments_lexer": "ipython3",
   "version": "3.8.8"
  }
 },
 "nbformat": 4,
 "nbformat_minor": 5
}
