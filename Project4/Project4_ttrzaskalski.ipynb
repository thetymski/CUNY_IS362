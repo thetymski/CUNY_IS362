{
 "cells": [
  {
   "cell_type": "markdown",
   "id": "5895458b",
   "metadata": {},
   "source": [
    "# Project 4\n",
    "\n",
    "### Use scikit-learn to determine which of the two predictor columns that you selected (odor and one other column of your choice) most accurately predicts whether or not a mushroom is poisonous."
   ]
  },
  {
   "cell_type": "code",
   "execution_count": 33,
   "id": "144553ff",
   "metadata": {},
   "outputs": [
    {
     "name": "stdout",
     "output_type": "stream",
     "text": [
      "      Poisonous_1  Odor_1  Odor_2  Odor_3  Odor_4  Odor_5  Odor_6  Odor_7  \\\n",
      "0               1       0       0       0       0       0       0       1   \n",
      "1               0       0       0       0       0       0       0       0   \n",
      "2               0       1       0       0       0       0       0       0   \n",
      "3               1       0       0       0       0       0       0       1   \n",
      "4               0       0       0       0       0       0       1       0   \n",
      "...           ...     ...     ...     ...     ...     ...     ...     ...   \n",
      "8119            0       0       0       0       0       0       1       0   \n",
      "8120            0       0       0       0       0       0       1       0   \n",
      "8121            0       0       0       0       0       0       1       0   \n",
      "8122            1       0       0       1       0       0       0       0   \n",
      "8123            0       0       0       0       0       0       1       0   \n",
      "\n",
      "      Odor_8  Stalk-Root_1  Stalk-Root_3  Stalk-Root_5  Stalk-Root_6  \n",
      "0          0             0             1             0             0  \n",
      "1          0             1             0             0             0  \n",
      "2          0             1             0             0             0  \n",
      "3          0             0             1             0             0  \n",
      "4          0             0             1             0             0  \n",
      "...      ...           ...           ...           ...           ...  \n",
      "8119       0             0             0             0             1  \n",
      "8120       0             0             0             0             1  \n",
      "8121       0             0             0             0             1  \n",
      "8122       0             0             0             0             1  \n",
      "8123       0             0             0             0             1  \n",
      "\n",
      "[8124 rows x 13 columns]\n"
     ]
    }
   ],
   "source": [
    "# Below I imported the necessary modules... a lot of extra ones as I was playing around with different options\n",
    "\n",
    "import pandas as pd\n",
    "import seaborn as sns\n",
    "import numpy as np\n",
    "%matplotlib inline\n",
    "from matplotlib import pyplot as plt\n",
    "from pandas import read_csv\n",
    "from sklearn.linear_model import LinearRegression\n",
    "from sklearn.model_selection import train_test_split\n",
    "from sklearn.naive_bayes import GaussianNB\n",
    "from sklearn.metrics import accuracy_score\n",
    "from sklearn import metrics\n",
    "from sklearn.linear_model import LogisticRegression\n",
    "from sklearn.model_selection import train_test_split\n",
    "from sklearn.datasets import load_iris\n",
    "\n",
    "# Below I identify some variables\n",
    "\n",
    "datafile = r\"C:\\Users\\thety\\Google Drive\\CUNY\\IS362\\\\Week 12\\agaricus-lepiota.data\"\n",
    "namefile = r\"C:\\Users\\thety\\Google Drive\\CUNY\\IS362\\\\Week 12\\agaricus-lepiota.txt\"\n",
    "\n",
    "# Below I load the variables and identify necessary columns\n",
    "\n",
    "agaricus = pd.read_csv(datafile,sep=',', usecols=[0,5,11], names=[\"Poisonous\",\"Odor\",\"Stalk-Root\"])\n",
    "\n",
    "# Below I replace the column strings with numerical values\n",
    "\n",
    "agaricus.replace(to_replace={\"Poisonous\":{'e': 0, 'p': 1}}, inplace=True)\n",
    "agaricus.replace(to_replace={\"Odor\":{'a': 0, 'l': 1, 'c': 2, 'y': 3, 'f': 4, 'm': 5, 'n': 6, 'p': 7, 's': 8}}, inplace=True)\n",
    "agaricus.replace(to_replace={\"Stalk-Root\":{'b': 0, 'c': 1, 'u': 2, 'e': 3, 'z': 4, 'r': 5, '?': 6}}, inplace=True)\n",
    "\n",
    "# Below I use get_dummies to convert categorical values into indicator variables\n",
    "\n",
    "agaricus_expanded = pd.get_dummies(agaricus, columns=['Poisonous', 'Odor', 'Stalk-Root'], drop_first=True)\n",
    "agaricus_expanded_odor = pd.get_dummies(agaricus, columns=['Poisonous', 'Odor'], drop_first=True)\n",
    "agaricus_expanded_stalk_root = pd.get_dummies(agaricus, columns=['Poisonous', 'Stalk-Root'], drop_first=True)\n",
    "\n",
    "# Sanity check below\n",
    "\n",
    "print(agaricus_expanded)\n"
   ]
  },
  {
   "cell_type": "code",
   "execution_count": 31,
   "id": "569d9306",
   "metadata": {},
   "outputs": [
    {
     "name": "stdout",
     "output_type": "stream",
     "text": [
      "Accuracy: \n",
      "98.77\n"
     ]
    }
   ],
   "source": [
    "# Below I define my X and Y values, X is the entire dataframe except for Poisonous col, which is Y\n",
    "\n",
    "X = agaricus_expanded.iloc[0:, 1:]\n",
    "Y = agaricus_expanded.Poisonous_1\n",
    "\n",
    "# Create testing and training data, pass to the logistic regression model\n",
    "\n",
    "X_train, X_test, Y_train, Y_test = train_test_split(X, Y)\n",
    "\n",
    "logreg = LogisticRegression()\n",
    "logreg.fit(X_train, Y_train)\n",
    "\n",
    "# Run a prediction\n",
    "\n",
    "Y_var = logreg.predict(X_test)\n",
    "\n",
    "# Compare accuracy of Y_Var against actual results\n",
    "\n",
    "acc = metrics.accuracy_score(Y_test, Y_var)\n",
    "\n",
    "# Calculate percentage accuracy\n",
    "\n",
    "print(\"Accuracy: \") \n",
    "print(np.format_float_positional(acc*100, precision=2))\n"
   ]
  },
  {
   "cell_type": "markdown",
   "id": "98fc3fa7",
   "metadata": {},
   "source": [
    "### As shown above, the columns chosen can predict how poisonous a mushroom is with a high degree of accuracy. "
   ]
  },
  {
   "cell_type": "code",
   "execution_count": 35,
   "id": "e050699f",
   "metadata": {},
   "outputs": [
    {
     "name": "stdout",
     "output_type": "stream",
     "text": [
      "Accuracy: \n",
      "100.\n"
     ]
    }
   ],
   "source": []
  },
  {
   "cell_type": "code",
   "execution_count": 37,
   "id": "53a2b122",
   "metadata": {},
   "outputs": [
    {
     "name": "stdout",
     "output_type": "stream",
     "text": [
      "Accuracy: \n",
      "100.\n"
     ]
    }
   ],
   "source": []
  },
  {
   "cell_type": "code",
   "execution_count": null,
   "id": "ee5b1d78",
   "metadata": {},
   "outputs": [],
   "source": []
  }
 ],
 "metadata": {
  "kernelspec": {
   "display_name": "Python 3",
   "language": "python",
   "name": "python3"
  },
  "language_info": {
   "codemirror_mode": {
    "name": "ipython",
    "version": 3
   },
   "file_extension": ".py",
   "mimetype": "text/x-python",
   "name": "python",
   "nbconvert_exporter": "python",
   "pygments_lexer": "ipython3",
   "version": "3.8.8"
  }
 },
 "nbformat": 4,
 "nbformat_minor": 5
}
