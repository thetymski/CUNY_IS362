{
 "cells": [
  {
   "cell_type": "markdown",
   "id": "7c3c0f70",
   "metadata": {},
   "source": [
    "# Week 12 Assignment\n",
    "\n",
    "### In this assignment, you’ll use what you’ve learned in the course to prepare data for predictive analysis in Project 4"
   ]
  },
  {
   "cell_type": "code",
   "execution_count": 90,
   "id": "38706e12",
   "metadata": {},
   "outputs": [
    {
     "name": "stdout",
     "output_type": "stream",
     "text": [
      "     Poisonous Cap-Color Odor Stalk-Root\n",
      "0            p         n    p          e\n",
      "1            e         y    a          c\n",
      "2            e         w    l          c\n",
      "3            p         w    p          e\n",
      "4            e         g    n          e\n",
      "...        ...       ...  ...        ...\n",
      "8119         e         n    n          ?\n",
      "8120         e         n    n          ?\n",
      "8121         e         n    n          ?\n",
      "8122         p         n    y          ?\n",
      "8123         e         n    n          ?\n",
      "\n",
      "[8124 rows x 4 columns]\n"
     ]
    }
   ],
   "source": [
    "# Below I imported the necessary modules\n",
    "\n",
    "import pandas as pd\n",
    "import seaborn as sns\n",
    "import numpy as np\n",
    "%matplotlib inline\n",
    "from matplotlib import pyplot as plt\n",
    "from pandas import read_csv\n",
    "from sklearn.linear_model import LinearRegression\n",
    "\n",
    "# Below I identify some variables\n",
    "\n",
    "datafile = r\"C:\\Users\\thety\\Google Drive\\CUNY\\IS362\\\\Week 12\\agaricus-lepiota.data\"\n",
    "namefile = r\"C:\\Users\\thety\\Google Drive\\CUNY\\IS362\\\\Week 12\\agaricus-lepiota.txt\"\n",
    "\n",
    "# Below I load the variables and identify necessary columns\n",
    "\n",
    "agaricus = pd.read_csv(datafile,sep=',', usecols=[0,3,5,11], names=[\"Poisonous\",\"Cap-Color\",\"Odor\",\"Stalk-Root\"])\n",
    "\n",
    "print(agaricus)"
   ]
  },
  {
   "cell_type": "code",
   "execution_count": 91,
   "id": "ea0527f5",
   "metadata": {},
   "outputs": [
    {
     "name": "stdout",
     "output_type": "stream",
     "text": [
      "      Poisonous  Cap-Color  Odor  Stalk-Root\n",
      "0             1          0     7           3\n",
      "1             0          9     0           1\n",
      "2             0          8     1           1\n",
      "3             1          8     7           3\n",
      "4             0          3     6           3\n",
      "...         ...        ...   ...         ...\n",
      "8119          0          0     6           6\n",
      "8120          0          0     6           6\n",
      "8121          0          0     6           6\n",
      "8122          1          0     3           6\n",
      "8123          0          0     6           6\n",
      "\n",
      "[8124 rows x 4 columns]\n"
     ]
    }
   ],
   "source": [
    "# Below I replace the column strings with numerical values\n",
    "\n",
    "agaricus.replace(to_replace={\"Poisonous\":{'e': 0, 'p': 1}}, inplace=True)\n",
    "agaricus.replace(to_replace={\"Cap-Color\":{'n': 0, 'b': 1, 'c': 2, 'g': 3, 'r': 4, 'p': 5, 'u': 6, 'e': 7, 'w': 8, 'y': 9}}, inplace=True)\n",
    "agaricus.replace(to_replace={\"Odor\":{'a': 0, 'l': 1, 'c': 2, 'y': 3, 'f': 4, 'm': 5, 'n': 6, 'p': 7, 's': 8}}, inplace=True)\n",
    "agaricus.replace(to_replace={\"Stalk-Root\":{'b': 0, 'c': 1, 'u': 2, 'e': 3, 'z': 4, 'r': 5, '?': 6}}, inplace=True)\n",
    "\n",
    "print(agaricus)"
   ]
  },
  {
   "cell_type": "code",
   "execution_count": 92,
   "id": "237f90ca",
   "metadata": {},
   "outputs": [
    {
     "data": {
      "text/plain": [
       "<matplotlib.collections.PathCollection at 0x22c9e7d3520>"
      ]
     },
     "execution_count": 92,
     "metadata": {},
     "output_type": "execute_result"
    },
    {
     "data": {
      "image/png": "[encoded data removed]",
      "text/plain": [
       "<Figure size 432x288 with 1 Axes>"
      ]
     },
     "metadata": {
      "needs_background": "light"
     },
     "output_type": "display_data"
    }
   ],
   "source": [
    "# Below I create a scatterplot of \n",
    "\n",
    "x = agaricus[\"Poisonous\"].values\n",
    "y = agaricus[\"Odor\"].values\n",
    "\n",
    "plt.scatter(x,y)"
   ]
  },
  {
   "cell_type": "markdown",
   "id": "9e2ce6b9",
   "metadata": {},
   "source": [
    "### As you can see above: based on odor, most mushrooms are poisonous."
   ]
  },
  {
   "cell_type": "code",
   "execution_count": 93,
   "id": "d5e7633b",
   "metadata": {},
   "outputs": [
    {
     "data": {
      "image/png": "[encoded data removed]",
      "text/plain": [
       "<Figure size 432x288 with 1 Axes>"
      ]
     },
     "metadata": {
      "needs_background": "light"
     },
     "output_type": "display_data"
    }
   ],
   "source": [
    "# Below I create a bar graph showing the amount of poisonous mushroom based on Stalk-Root\n",
    "\n",
    "agaricus = agaricus.drop(['Cap-Color', 'Odor'], axis = 1)\n",
    "agaricus.drop(agaricus[agaricus['Poisonous'] < 1].index, inplace = True)\n",
    "\n",
    "agaricus = agaricus.groupby(['Stalk-Root']).count()\n",
    "\n",
    "ax = agaricus.plot.bar(stacked=True)"
   ]
  },
  {
   "cell_type": "markdown",
   "id": "fb2ef8ff",
   "metadata": {},
   "source": [
    "### As you can see above: based on Stalk-Root, only types bulbous, club, equal, and missing may be poisonous. Overwhelmingly, bulbous mushrooms are poisonous."
   ]
  }
 ],
 "metadata": {
  "kernelspec": {
   "display_name": "Python 3",
   "language": "python",
   "name": "python3"
  },
  "language_info": {
   "codemirror_mode": {
    "name": "ipython",
    "version": 3
   },
   "file_extension": ".py",
   "mimetype": "text/x-python",
   "name": "python",
   "nbconvert_exporter": "python",
   "pygments_lexer": "ipython3",
   "version": "3.8.8"
  }
 },
 "nbformat": 4,
 "nbformat_minor": 5
}
