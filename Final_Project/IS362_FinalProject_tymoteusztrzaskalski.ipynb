{
 "cells": [
  {
   "cell_type": "markdown",
   "id": "6b41942b",
   "metadata": {},
   "source": [
    "# IS362 FINAL PROJECT\n",
    "\n",
    "### W. Edwards Deming said, “In God we trust, all others must bring data.” Please use data to determine whether Best Film Editing is the best predictor of Best Picture. Consider your work as an exploration; there is not necessarily a “right answer.”\n"
   ]
  },
  {
   "cell_type": "markdown",
   "id": "c53fb1cf",
   "metadata": {},
   "source": [
    "### The data that you decide to collect should reside in a MySQL database, in a set of normalized tables. Below is the MySQL query run to create this database.\n",
    "\n",
    "SET SQL_SAFE_UPDATES = 0;\n",
    "\n",
    "DROP TABLE IF EXISTS data;\n",
    "DROP TABLE IF EXISTS entity_Table;\n",
    "DROP TABLE IF EXISTS category_Table;\n",
    "\n",
    "CREATE TABLE data(\n",
    "  year integer,\n",
    "  category mediumtext,\n",
    "  winner varchar(100),\n",
    "  entity mediumtext\n",
    "  );\n",
    "\n",
    "LOAD DATA INFILE 'C:/ProgramData/MySQL/MySQL Server 8.0/Uploads/data/data_csv.csv' \n",
    "INTO TABLE data\n",
    "FIELDS TERMINATED BY ',' \n",
    "ENCLOSED BY '\"'\n",
    "LINES TERMINATED BY '\\n'\n",
    "IGNORE 1 ROWS;\n",
    "\n",
    "CREATE TABLE entity_Table(\n",
    "  entityID integer,\n",
    "  entityNAME mediumtext\n",
    "  );\n",
    "\n",
    "LOAD DATA INFILE 'C:/ProgramData/MySQL/MySQL Server 8.0/Uploads/data/entity_table.csv' \n",
    "INTO TABLE entity_Table\n",
    "FIELDS TERMINATED BY ',' \n",
    "ENCLOSED BY '\"'\n",
    "LINES TERMINATED BY '\\n'\n",
    "IGNORE 1 ROWS;\n",
    "\n",
    "CREATE TABLE category_Table(\n",
    "  category integer,\n",
    "  categoryNAME mediumtext\n",
    "  );\n",
    "\n",
    "LOAD DATA INFILE 'C:/ProgramData/MySQL/MySQL Server 8.0/Uploads/data/category_table.csv' \n",
    "INTO TABLE category_Table\n",
    "FIELDS TERMINATED BY ',' \n",
    "ENCLOSED BY '\"'\n",
    "LINES TERMINATED BY '\\n'\n",
    "IGNORE 1 ROWS;"
   ]
  },
  {
   "cell_type": "markdown",
   "id": "9a328371",
   "metadata": {},
   "source": [
    "### Data import & dataframe creation"
   ]
  },
  {
   "cell_type": "code",
   "execution_count": 52,
   "id": "42a207a8",
   "metadata": {},
   "outputs": [
    {
     "name": "stdout",
     "output_type": "stream",
     "text": [
      "       year                                           category  winner  \\\n",
      "0      1927                                              ACTOR   False   \n",
      "1      1927                                              ACTOR    True   \n",
      "2      1927                                            ACTRESS   False   \n",
      "3      1927                                            ACTRESS    True   \n",
      "4      1927                                            ACTRESS   False   \n",
      "...     ...                                                ...     ...   \n",
      "11053  2017  SCIENTIFIC AND TECHNICAL AWARD (Scientific and...    True   \n",
      "11054  2017  SCIENTIFIC AND TECHNICAL AWARD (Technical Achi...    True   \n",
      "11055  2017  SCIENTIFIC AND TECHNICAL AWARD (Technical Achi...    True   \n",
      "11056  2017  SCIENTIFIC AND TECHNICAL AWARD (Technical Achi...    True   \n",
      "11057  2017  SCIENTIFIC AND TECHNICAL AWARD (Technical Achi...    True   \n",
      "\n",
      "                                                  entity  \n",
      "0                                    Richard Barthelmess  \n",
      "1                                          Emil Jannings  \n",
      "2                                         Louise Dresser  \n",
      "3                                           Janet Gaynor  \n",
      "4                                         Gloria Swanson  \n",
      "...                                                  ...  \n",
      "11053  To LEONARD CHAPMAN for the overall concept, de...  \n",
      "11054  To JASON SMITH and JEFF WHITE for the original...  \n",
      "11055  To JOE MANCEWICZ, MATT DERKSEN and HANS RIJPKE...  \n",
      "11056  To ALEX POWELL for his contribution to the des...  \n",
      "11057  To ROB JENSEN for the foundational design and ...  \n",
      "\n",
      "[11058 rows x 4 columns]\n"
     ]
    }
   ],
   "source": [
    "# Below I imported the necessary modules\n",
    "\n",
    "import pandas as pd\n",
    "import seaborn as sns\n",
    "import numpy as np\n",
    "%matplotlib inline\n",
    "from pandas import read_csv\n",
    "from matplotlib import pyplot as plt\n",
    "import matplotlib.pyplot as plt\n",
    "import requests\n",
    "\n",
    "# Below I read the 3 tables, category_table and entity_Table as dictionaries so that I can use the map function to replace values.\n",
    "\n",
    "category_table = pd.read_csv(r\"C:\\Users\\thety\\Google Drive\\CUNY\\IS362\\\\final project\\category_Table.csv\", header=None, index_col=0, squeeze=True).to_dict()\n",
    "data = r\"C:\\Users\\thety\\Google Drive\\CUNY\\IS362\\\\final project\\data_csv.csv\" \n",
    "entity_Table = pd.read_csv(r\"C:\\Users\\thety\\Google Drive\\CUNY\\IS362\\\\final project\\entity_Table.csv\", header=None, index_col=0, squeeze=True).to_dict()\n",
    "\n",
    "data_table = pd.read_csv(data)\n",
    "\n",
    "print(data_table)\n",
    "\n",
    "# Below I reverse the dictionaries, as my \"key\" was in the wrong column\n",
    "\n",
    "reversed_entity_Table = {value : key for (key, value) in entity_Table.items()}\n",
    "reversed_category_table = {value : key for (key, value) in category_table.items()}"
   ]
  },
  {
   "cell_type": "markdown",
   "id": "789ab048",
   "metadata": {},
   "source": [
    "### Data manipulation and shaping"
   ]
  },
  {
   "cell_type": "code",
   "execution_count": 53,
   "id": "96b11715",
   "metadata": {},
   "outputs": [
    {
     "name": "stdout",
     "output_type": "stream",
     "text": [
      "    year_x category_x  winner_x entity  year_y category_y winner_y\n",
      "0     1962         70      True   2443  1962.0         25     True\n",
      "3     1965         70      True   2655  1965.0         25     True\n",
      "5     1967         70      True   2797  1967.0         25     True\n",
      "8     1970         70      True   2987  1970.0         25     True\n",
      "9     1971         70      True   3054  1971.0         25     True\n",
      "11    1973         70      True   3179  1973.0         25     True\n",
      "14    1976         70      True   3389  1976.0         25     True\n",
      "16    1978         70      True   3520  1978.0         25     True\n",
      "20    1982         70      True   3797  1982.0         25     True\n",
      "24    1986         70      True   4074  1986.0         25     True\n",
      "25    1987         70      True   4149  1987.0         25     True\n",
      "28    1990         70      True   4368  1990.0         25     True\n",
      "30    1992         70      True   4516  1992.0         25     True\n",
      "31    1993         70      True   4590  1993.0         25     True\n",
      "32    1994         70      True   4651  1994.0         25     True\n",
      "34    1996         70      True   4837  1996.0         25     True\n",
      "35    1997         70      True   1794  1997.0         25     True\n",
      "40    2002         70      True   5331  2002.0         25     True\n",
      "41    2003         70      True   5404  2003.0         25     True\n",
      "43    2005         70      True   5557  2005.0         25     True\n",
      "44    2006         70      True   5639  2006.0         25     True\n",
      "46    2008         70      True   5787  2008.0         25     True\n",
      "47    2009         70      True   5852  2009.0         25     True\n",
      "50    2012         70      True   6090  2012.0         25     True\n"
     ]
    }
   ],
   "source": [
    "# Below I use the map function to replace category and entity columns, to normalize the data\n",
    "\n",
    "data_table['entity'] = data_table['entity'].map(reversed_entity_Table)\n",
    "data_table['category'] = data_table['category'].map(reversed_category_table)\n",
    "\n",
    "# Below I drop data from before the year 1940 and non-winners, since the categories I will compare were all introduced this year\n",
    "\n",
    "data_table.drop(data_table[data_table['year'] < 1962].index, inplace = True)\n",
    "data_table.drop(data_table[data_table['winner'] == False].index, inplace = True)\n",
    "\n",
    "# Below i create dataframes that contain only winners for specific categories\n",
    "\n",
    "data_table_best = data_table.drop(data_table[(data_table['category'] != '70')].index)\n",
    "data_table_editing = data_table.drop(data_table[(data_table['category'] != '25')].index)\n",
    "data_table_actor = data_table.drop(data_table[(data_table['category'] != '90')].index)\n",
    "data_table_actress = data_table.drop(data_table[(data_table['category'] != '91')].index)\n",
    "data_table_music = data_table.drop(data_table[(data_table['category'] != '36')].index)\n",
    "data_table_screenplay = data_table.drop(data_table[(data_table['category'] != '42')].index)\n",
    "data_table_cinematography = data_table.drop(data_table[(data_table['category'] != '4')].index)\n",
    "\n",
    "# Below I join dataframes of specific categories on best picture winners\n",
    "\n",
    "best_picture_editing = pd.merge(left=data_table_best, right=data_table_editing, how='left', left_on='entity', right_on='entity')\n",
    "best_picture_editing.dropna(subset=['category_y'], inplace = True)\n",
    "\n",
    "best_picture_actor = pd.merge(left=data_table_best, right=data_table_actor, how='left', left_on='entity', right_on='entity')\n",
    "best_picture_actor.dropna(subset=['category_y'], inplace = True)\n",
    "\n",
    "best_picture_actress = pd.merge(left=data_table_best, right=data_table_actress, how='left', left_on='entity', right_on='entity')\n",
    "best_picture_actress.dropna(subset=['category_y'], inplace = True)\n",
    "\n",
    "best_picture_music = pd.merge(left=data_table_best, right=data_table_music, how='left', left_on='entity', right_on='entity')\n",
    "best_picture_music.dropna(subset=['category_y'], inplace = True)\n",
    "\n",
    "best_picture_screenplay = pd.merge(left=data_table_best, right=data_table_screenplay, how='left', left_on='entity', right_on='entity')\n",
    "best_picture_screenplay.dropna(subset=['category_y'], inplace = True)\n",
    "\n",
    "best_picture_cinematography = pd.merge(left=data_table_best, right=data_table_cinematography, how='left', left_on='entity', right_on='entity')\n",
    "best_picture_cinematography.dropna(subset=['category_y'], inplace = True)\n",
    "\n",
    "# Below I check that my above code worked as intended\n",
    "\n",
    "print(best_picture_editing)"
   ]
  },
  {
   "cell_type": "markdown",
   "id": "7571055e",
   "metadata": {},
   "source": [
    "### Graphing my results"
   ]
  },
  {
   "cell_type": "code",
   "execution_count": 54,
   "id": "886c6ee3",
   "metadata": {},
   "outputs": [
    {
     "data": {
      "text/plain": [
       "Text(0, 0.5, 'Wins incl. BP')"
      ]
     },
     "execution_count": 54,
     "metadata": {},
     "output_type": "execute_result"
    },
    {
     "data": {
      "image/png": "[encoded data removed]",
      "text/plain": [
       "<Figure size 432x288 with 1 Axes>"
      ]
     },
     "metadata": {
      "needs_background": "light"
     },
     "output_type": "display_data"
    }
   ],
   "source": [
    "# I create a new dataframe that contains the number of wins which include a best picture win and which category that was\n",
    "\n",
    "data = [['Editing', len(data_table_editing.index)], ['Actor', len(data_table_actor.index)], ['Actress', len(data_table_actress.index)], ['Music', len(data_table_music.index)], ['Screenplay', len(data_table_screenplay.index)], ['Cinematography', len(data_table_cinematography.index)]]\n",
    "\n",
    "new_df = pd.DataFrame(data, columns = ['Category', 'Wins incl. BP'])\n",
    "\n",
    "# Below I create a bar graph to show the results\n",
    "\n",
    "c = new_df['Category']\n",
    "d = new_df['Wins incl. BP']\n",
    "\n",
    "plt.bar(c,d)\n",
    "\n",
    "plt.xlabel(\"Category\")\n",
    "plt.ylabel(\"Wins incl. BP\")"
   ]
  },
  {
   "cell_type": "markdown",
   "id": "48d59bd9",
   "metadata": {},
   "source": [
    "### As you can see above, from importing three different tables from an SQL database, we are able to manipulate the data as we need to create a chart which displays that 'Best Film Editing' is the best predictor of 'Best Picture'."
   ]
  }
 ],
 "metadata": {
  "kernelspec": {
   "display_name": "Python 3",
   "language": "python",
   "name": "python3"
  },
  "language_info": {
   "codemirror_mode": {
    "name": "ipython",
    "version": 3
   },
   "file_extension": ".py",
   "mimetype": "text/x-python",
   "name": "python",
   "nbconvert_exporter": "python",
   "pygments_lexer": "ipython3",
   "version": "3.8.8"
  }
 },
 "nbformat": 4,
 "nbformat_minor": 5
}
